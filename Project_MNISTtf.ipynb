{
  "nbformat": 4,
  "nbformat_minor": 0,
  "metadata": {
    "colab": {
      "provenance": [],
      "authorship_tag": "ABX9TyMySgB2VzfLQ60uyZX5rEt5",
      "include_colab_link": true
    },
    "kernelspec": {
      "name": "python3",
      "display_name": "Python 3"
    },
    "language_info": {
      "name": "python"
    }
  },
  "cells": [
    {
      "cell_type": "markdown",
      "metadata": {
        "id": "view-in-github",
        "colab_type": "text"
      },
      "source": [
        "<a href=\"https://colab.research.google.com/github/boatnoah/Project-MNIST-tf/blob/main/Project_MNISTtf.ipynb\" target=\"_parent\"><img src=\"https://colab.research.google.com/assets/colab-badge.svg\" alt=\"Open In Colab\"/></a>"
      ]
    },
    {
      "cell_type": "markdown",
      "source": [
        "1. Import Modules"
      ],
      "metadata": {
        "id": "2BhgFR7p8HEa"
      }
    },
    {
      "cell_type": "code",
      "execution_count": null,
      "metadata": {
        "id": "rUgA8t5ADh9M"
      },
      "outputs": [],
      "source": [
        "import numpy as np\n",
        "import matplotlib.pyplot as plt\n",
        "import tensorflow as tf\n",
        "from tensorflow import keras\n",
        "from tensorflow.keras import layers\n",
        "import logging\n",
        "\n",
        "logging.getLogger('tensorflow').disabled = True"
      ]
    },
    {
      "cell_type": "markdown",
      "source": [
        "2. Load Dataset"
      ],
      "metadata": {
        "id": "BkE_S5-977gP"
      }
    },
    {
      "cell_type": "code",
      "source": [
        "from tensorflow.keras.datasets import mnist\n",
        "\n",
        "(train_images, train_labels), (test_images, test_labels) = mnist.load_data()\n",
        "\n",
        "train_images = train_images.reshape(-1, 28*28) / 255.0\n",
        "test_images = test_images.reshape(-1, 28*28) / 255.0\n",
        "\n",
        "train_labels = np.asarray(train_labels, dtype=np.int32)\n",
        "test_labels = np.asarray(test_labels, dtype=np.int32)"
      ],
      "metadata": {
        "id": "tWMW3y7X79yy",
        "colab": {
          "base_uri": "https://localhost:8080/"
        },
        "outputId": "edb96e8d-5c6f-40da-fb47-49fe17fcbe44"
      },
      "execution_count": null,
      "outputs": [
        {
          "output_type": "stream",
          "name": "stdout",
          "text": [
            "Downloading data from https://storage.googleapis.com/tensorflow/tf-keras-datasets/mnist.npz\n",
            "11490434/11490434 [==============================] - 0s 0us/step\n"
          ]
        }
      ]
    },
    {
      "cell_type": "markdown",
      "source": [
        "3. Display dataset"
      ],
      "metadata": {
        "id": "nVKP4pYK7-Xg"
      }
    },
    {
      "cell_type": "code",
      "source": [
        "def display(i):\n",
        "    img = test_images[i]\n",
        "    plt.title('label : {}'.format(test_labels[i]))\n",
        "    plt.imshow(img.reshape((28, 28)))\n",
        "\n",
        "# image in TensorFlow is 28 by 28 px\n",
        "display(2)"
      ],
      "metadata": {
        "id": "tVR-Elnp8fE0",
        "colab": {
          "base_uri": "https://localhost:8080/",
          "height": 452
        },
        "outputId": "72a287b5-617a-46f8-899e-1bacbd38f8c4"
      },
      "execution_count": null,
      "outputs": [
        {
          "output_type": "display_data",
          "data": {
            "text/plain": [
              "<Figure size 640x480 with 1 Axes>"
            ],
            "image/png": "[encoded data removed]"
          },
          "metadata": {}
        }
      ]
    },
    {
      "cell_type": "markdown",
      "source": [
        "4. Create and fit model"
      ],
      "metadata": {
        "id": "RiFqCcRSxR4U"
      }
    },
    {
      "cell_type": "code",
      "source": [
        "feature_columns = train_images.shape[1]\n",
        "\n",
        "# Create a simple Keras sequential model\n",
        "model = keras.Sequential()\n",
        "model.add(layers.Dense(10, activation='softmax', input_shape=(feature_columns,)))\n",
        "\n",
        "# Compile model\n",
        "model.compile(optimizer='adam',\n",
        "              loss='sparse_categorical_crossentropy',\n",
        "              metrics=['accuracy'])\n",
        "\n",
        "# Train model\n",
        "model.fit(train_images, train_labels, epochs=10)"
      ],
      "metadata": {
        "id": "LsXuzVkd8gk8",
        "colab": {
          "base_uri": "https://localhost:8080/"
        },
        "outputId": "e821c534-b1a6-48f5-e47b-ab94fd4df565"
      },
      "execution_count": null,
      "outputs": [
        {
          "output_type": "stream",
          "name": "stdout",
          "text": [
            "Epoch 1/10\n",
            "1875/1875 [==============================] - 10s 5ms/step - loss: 0.4688 - accuracy: 0.8777\n",
            "Epoch 2/10\n",
            "1875/1875 [==============================] - 8s 4ms/step - loss: 0.3035 - accuracy: 0.9149\n",
            "Epoch 3/10\n",
            "1875/1875 [==============================] - 3s 2ms/step - loss: 0.2828 - accuracy: 0.9211\n",
            "Epoch 4/10\n",
            "1875/1875 [==============================] - 3s 2ms/step - loss: 0.2726 - accuracy: 0.9246\n",
            "Epoch 5/10\n",
            "1875/1875 [==============================] - 3s 2ms/step - loss: 0.2665 - accuracy: 0.9262\n",
            "Epoch 6/10\n",
            "1875/1875 [==============================] - 4s 2ms/step - loss: 0.2619 - accuracy: 0.9273\n",
            "Epoch 7/10\n",
            "1875/1875 [==============================] - 3s 2ms/step - loss: 0.2584 - accuracy: 0.9286\n",
            "Epoch 8/10\n",
            "1875/1875 [==============================] - 3s 2ms/step - loss: 0.2554 - accuracy: 0.9291\n",
            "Epoch 9/10\n",
            "1875/1875 [==============================] - 4s 2ms/step - loss: 0.2531 - accuracy: 0.9300\n",
            "Epoch 10/10\n",
            "1875/1875 [==============================] - 7s 4ms/step - loss: 0.2511 - accuracy: 0.9305\n"
          ]
        },
        {
          "output_type": "execute_result",
          "data": {
            "text/plain": [
              "<keras.callbacks.History at 0x79f31a5a7310>"
            ]
          },
          "metadata": {},
          "execution_count": 4
        }
      ]
    },
    {
      "cell_type": "markdown",
      "source": [
        "3. Evaluate"
      ],
      "metadata": {
        "id": "tN-NA7798kEG"
      }
    },
    {
      "cell_type": "code",
      "source": [
        "test_loss, test_acc = model.evaluate(test_images, test_labels)\n",
        "print(f'Test accuracy: {test_acc}')\n",
        "print(f'Test loss: {test_loss}')"
      ],
      "metadata": {
        "colab": {
          "base_uri": "https://localhost:8080/"
        },
        "id": "RHmpv6UBsr2x",
        "outputId": "d1a8ce08-5564-4117-b073-97303a51e6e8"
      },
      "execution_count": null,
      "outputs": [
        {
          "output_type": "stream",
          "name": "stdout",
          "text": [
            "313/313 [==============================] - 1s 3ms/step - loss: 0.2629 - accuracy: 0.9267\n",
            "Test accuracy: 0.9266999959945679\n",
            "Test loss: 0.2628570795059204\n"
          ]
        }
      ]
    },
    {
      "cell_type": "markdown",
      "source": [
        "4. Predict"
      ],
      "metadata": {
        "id": "6XqJpXym9szT"
      }
    },
    {
      "cell_type": "code",
      "source": [
        "def predict_image(model, img):\n",
        "  pred = model.predict(img[None, :])\n",
        "  return np.argmax(pred[0])\n",
        "\n",
        "img = test_images[5]\n",
        "pred = predict_image(model, img)\n",
        "\n",
        "print(f\"Predictions: {pred}\")\n",
        "\n",
        "plt.imshow(img.reshape(28, 28), cmap='gray')\n",
        "plt.title(f\"Prediction: {pred}, Label: {test_labels[7]}\")\n",
        "plt.show()"
      ],
      "metadata": {
        "id": "DXXbweQjB2-_",
        "colab": {
          "base_uri": "https://localhost:8080/",
          "height": 488
        },
        "outputId": "c67f8f2d-0e87-4ad2-9eb1-b2cfcc2f7125"
      },
      "execution_count": null,
      "outputs": [
        {
          "output_type": "stream",
          "name": "stdout",
          "text": [
            "1/1 [==============================] - 0s 23ms/step\n",
            "Predictions: 9\n"
          ]
        },
        {
          "output_type": "display_data",
          "data": {
            "text/plain": [
              "<Figure size 640x480 with 1 Axes>"
            ],
            "image/png": "[encoded data removed]"
          },
          "metadata": {}
        }
      ]
    },
    {
      "cell_type": "code",
      "source": [],
      "metadata": {
        "id": "Kyqh7H0dCAou"
      },
      "execution_count": null,
      "outputs": []
    }
  ]
}